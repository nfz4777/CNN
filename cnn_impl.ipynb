{
  "nbformat": 4,
  "nbformat_minor": 0,
  "metadata": {
    "colab": {
      "name": "cnn_impl.ipynb",
      "provenance": [],
      "collapsed_sections": []
    },
    "kernelspec": {
      "name": "python3",
      "display_name": "Python 3"
    },
    "language_info": {
      "name": "python"
    }
  },
  "cells": [
    {
      "cell_type": "code",
      "execution_count": 31,
      "metadata": {
        "id": "2xKKgD0Utq24"
      },
      "outputs": [],
      "source": [
        "import tensorflow as tf\n",
        "from tensorflow import keras\n",
        "from tensorflow.keras.layers import Dense, Flatten, Convolution2D, MaxPooling2D"
      ]
    },
    {
      "cell_type": "code",
      "source": [
        "(xtrain,ytrain),(xtest,ytest)=keras.datasets.cifar10.load_data()"
      ],
      "metadata": {
        "id": "F6E36YH2ieqP"
      },
      "execution_count": 32,
      "outputs": []
    },
    {
      "cell_type": "code",
      "source": [
        "#Normalization\n",
        "xtrain = xtrain/255\n",
        "xtest = xtest/255"
      ],
      "metadata": {
        "id": "tlYS9J0qiiaD"
      },
      "execution_count": 33,
      "outputs": []
    },
    {
      "cell_type": "code",
      "source": [
        "#Bulding Sequential Model\n",
        "model = keras.Sequential()\n",
        "model.add(Convolution2D(32,3,padding='valid',activation='relu', input_shape=(32,32,3)))\n",
        "model.add(MaxPooling2D(pool_size=(2,2)))\n",
        "model.add(Convolution2D(64,3,padding='valid',activation='relu'))\n",
        "model.add(MaxPooling2D(pool_size=(2,2)))\n",
        "model.add(Convolution2D(128,3,padding='valid',activation='relu'))\n",
        "model.add(MaxPooling2D(pool_size=(2,2)))\n",
        "model.add(Flatten())\n",
        "model.add(Dense(10))\n",
        " \n",
        "\n",
        "model.compile(\n",
        "    loss=keras.losses.SparseCategoricalCrossentropy(from_logits=True),\n",
        "    optimizer = keras.optimizers.Adam(lr=3e-4),\n",
        "    metrics=[\"accuracy\"],\n",
        ")\n",
        "model.fit(xtrain,\n",
        "          ytrain,\n",
        "          epochs=10,\n",
        "          batch_size=64,\n",
        "          verbose=2\n",
        "          )\n",
        "model.evaluate(xtest,ytest,batch_size=64,\n",
        "          verbose=2)\n"
      ],
      "metadata": {
        "colab": {
          "base_uri": "https://localhost:8080/"
        },
        "id": "pBv9p29eipcj",
        "outputId": "c85767a0-d441-4b15-98c1-96e56443f53b"
      },
      "execution_count": 35,
      "outputs": [
        {
          "output_type": "stream",
          "name": "stderr",
          "text": [
            "/usr/local/lib/python3.7/dist-packages/keras/optimizer_v2/adam.py:105: UserWarning: The `lr` argument is deprecated, use `learning_rate` instead.\n",
            "  super(Adam, self).__init__(name, **kwargs)\n"
          ]
        },
        {
          "output_type": "stream",
          "name": "stdout",
          "text": [
            "Epoch 1/10\n",
            "782/782 - 65s - loss: 1.7482 - accuracy: 0.3675 - 65s/epoch - 83ms/step\n",
            "Epoch 2/10\n",
            "782/782 - 63s - loss: 1.4157 - accuracy: 0.4947 - 63s/epoch - 81ms/step\n",
            "Epoch 3/10\n",
            "782/782 - 63s - loss: 1.2933 - accuracy: 0.5445 - 63s/epoch - 81ms/step\n",
            "Epoch 4/10\n",
            "782/782 - 64s - loss: 1.2114 - accuracy: 0.5768 - 64s/epoch - 81ms/step\n",
            "Epoch 5/10\n",
            "782/782 - 63s - loss: 1.1475 - accuracy: 0.6020 - 63s/epoch - 81ms/step\n",
            "Epoch 6/10\n",
            "782/782 - 64s - loss: 1.0910 - accuracy: 0.6222 - 64s/epoch - 81ms/step\n",
            "Epoch 7/10\n",
            "782/782 - 64s - loss: 1.0498 - accuracy: 0.6382 - 64s/epoch - 81ms/step\n",
            "Epoch 8/10\n",
            "782/782 - 63s - loss: 1.0041 - accuracy: 0.6546 - 63s/epoch - 81ms/step\n",
            "Epoch 9/10\n",
            "782/782 - 65s - loss: 0.9759 - accuracy: 0.6642 - 65s/epoch - 83ms/step\n",
            "Epoch 10/10\n",
            "782/782 - 64s - loss: 0.9395 - accuracy: 0.6795 - 64s/epoch - 82ms/step\n",
            "157/157 - 4s - loss: 1.0028 - accuracy: 0.6566 - 4s/epoch - 24ms/step\n"
          ]
        },
        {
          "output_type": "execute_result",
          "data": {
            "text/plain": [
              "[1.0028046369552612, 0.6565999984741211]"
            ]
          },
          "metadata": {},
          "execution_count": 35
        }
      ]
    }
  ]
}